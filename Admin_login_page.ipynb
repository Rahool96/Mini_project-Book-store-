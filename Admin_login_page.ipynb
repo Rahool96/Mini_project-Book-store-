{
 "cells": [
  {
   "cell_type": "code",
   "execution_count": 1,
   "id": "cf1899ed",
   "metadata": {},
   "outputs": [],
   "source": [
    "import import_ipynb"
   ]
  },
  {
   "cell_type": "code",
   "execution_count": 2,
   "id": "0e8f3b3b",
   "metadata": {},
   "outputs": [
    {
     "name": "stdout",
     "output_type": "stream",
     "text": [
      "importing Jupyter notebook from Admin_page.ipynb\n"
     ]
    }
   ],
   "source": [
    "from tkinter import*\n",
    "from tkinter import ttk, messagebox\n",
    "from PIL import ImageTk \n",
    "from Admin_page import Window"
   ]
  },
  {
   "cell_type": "code",
   "execution_count": 5,
   "id": "b79d550e",
   "metadata": {},
   "outputs": [],
   "source": [
    "class Adminlogin_page:\n",
    "    def __init__(self,root):\n",
    "        self.root = root\n",
    "        self.root.geometry('500x600+400+50')\n",
    "        self.root.title(\"Admin login page\")\n",
    "        \n",
    "    #title frame\n",
    "\n",
    "        title_frame=Frame(self.root,bd=1,relief=RAISED,bg='lightgreen')\n",
    "        title_frame.place(x=0,y=28,width=500,height=82)  ## unit of x & y is pixel\n",
    "        \n",
    "        title_label=Label(title_frame,text=\"Admin Login\",font=('Times New Roman',30,'bold'),fg='black',bg='lightgreen')\n",
    "        title_label.place(x=125,y=10)\n",
    "        \n",
    "    #variables\n",
    "        self.admin_id=StringVar()\n",
    "        self.password=StringVar()\n",
    "        \n",
    "    #Admin Id\n",
    "        # ID frame\n",
    "\n",
    "        ID_frame=Frame(self.root,bd=1,relief=RAISED,bg='lightgreen')\n",
    "        ID_frame.place(x=25,y=200,width=450,height=60)  ## unit of x & y is pixel\n",
    "        \n",
    "        l1=Label(ID_frame,text=\"Admin ID :\",font=('Times New Roman',16,'bold'),fg='darkblue')\n",
    "        l1.grid(row=0,column=0,padx=10,pady=10,sticky=W)\n",
    "        \n",
    "        e1=ttk.Entry(ID_frame,textvariable=self.admin_id,font=('Times New Roman',15,'bold'),width=17)\n",
    "        e1.grid(row=0,column=1,padx=10,pady=10,sticky=W)\n",
    "        \n",
    "        # password frame\n",
    "\n",
    "        password_frame=Frame(self.root,bd=1,relief=RAISED,bg='lightgreen')\n",
    "        password_frame.place(x=25,y=300,width=450,height=60)  ## unit of x & y is pixel\n",
    "        \n",
    "        l2=Label(password_frame,text=\"Password :\",font=('Times New Roman',16,'bold'),fg='darkblue')\n",
    "        l2.grid(row=0,column=0,padx=10,pady=10,sticky=W)\n",
    "        \n",
    "        e2=ttk.Entry(password_frame,textvariable=self.password,show='*',font=('Times New Roman',15,'bold'),width=17)\n",
    "        e2.grid(row=0,column=1,padx=10,pady=10,sticky=W)\n",
    "        \n",
    "        #login button frame\n",
    "        login_frame=Frame(self.root,bd=1,relief=RAISED,bg='skyblue')\n",
    "        login_frame.place(x=125,y=400,width=250,height=55)\n",
    "        \n",
    "        #login Button\n",
    "        admin_login=Button(login_frame,text='Login',command=self.validate,width=20,bg='brown',fg='white',font=('bold',15),cursor='hand2')\n",
    "        admin_login.grid(row=0,column=0,padx=10,pady=5)\n",
    "    \n",
    "    def validate(self):\n",
    "        if (self.admin_id.get()==\"Rahul\" and self.password.get()==\"Pass@123\") or(self.admin_id.get()==\"Sonali\" and self.password.get()==\"Sonali@1993\"):\n",
    "            self.Admin_page()\n",
    "        else:\n",
    "            messagebox.showerror('Error','Invalid Admin ID or Password')\n",
    "            return False\n",
    "    def Admin_page(self):\n",
    "        self.new_win = Toplevel(self.root)\n",
    "        self.new_obj = Window(self.new_win)       "
   ]
  },
  {
   "cell_type": "code",
   "execution_count": 6,
   "id": "584ad014",
   "metadata": {},
   "outputs": [],
   "source": [
    "if __name__=='__main__':\n",
    "    root = Tk()\n",
    "    obj=Adminlogin_page(root)\n",
    "    root.mainloop()"
   ]
  },
  {
   "cell_type": "code",
   "execution_count": null,
   "id": "05668bab",
   "metadata": {},
   "outputs": [],
   "source": []
  }
 ],
 "metadata": {
  "kernelspec": {
   "display_name": "Python 3 (ipykernel)",
   "language": "python",
   "name": "python3"
  },
  "language_info": {
   "codemirror_mode": {
    "name": "ipython",
    "version": 3
   },
   "file_extension": ".py",
   "mimetype": "text/x-python",
   "name": "python",
   "nbconvert_exporter": "python",
   "pygments_lexer": "ipython3",
   "version": "3.9.7"
  }
 },
 "nbformat": 4,
 "nbformat_minor": 5
}
