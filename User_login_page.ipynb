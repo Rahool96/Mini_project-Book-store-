{
 "cells": [
  {
   "cell_type": "code",
   "execution_count": 1,
   "id": "94da5216",
   "metadata": {},
   "outputs": [],
   "source": [
    "import import_ipynb"
   ]
  },
  {
   "cell_type": "code",
   "execution_count": 2,
   "id": "32a72e2a",
   "metadata": {},
   "outputs": [
    {
     "name": "stdout",
     "output_type": "stream",
     "text": [
      "importing Jupyter notebook from User_reg_page.ipynb\n",
      "importing Jupyter notebook from user_page.ipynb\n"
     ]
    }
   ],
   "source": [
    "from tkinter import * ##for creating GUI\n",
    "from tkinter import ttk,messagebox ## for Showing messagebox\n",
    "from PIL import Image,ImageTk  #pillow library for inserting image \n",
    "import re # for validation\n",
    "import psycopg2 #to connect python to postgres database\n",
    "from User_reg_page import *\n",
    "from user_page import Window"
   ]
  },
  {
   "cell_type": "code",
   "execution_count": 3,
   "id": "71a88270",
   "metadata": {},
   "outputs": [],
   "source": [
    "class Userlogin_page:\n",
    "    def __init__(self,root):\n",
    "        self.root = root\n",
    "        self.root.geometry('500x600+400+50')\n",
    "        self.root.title(\"User login page\")\n",
    "        \n",
    "    #title frame\n",
    "\n",
    "        title_frame=Frame(self.root,bd=1,relief=RAISED,bg='lightgreen')\n",
    "        title_frame.place(x=0,y=0,width=500,height=82)  ## unit of x & y is pixel\n",
    "        \n",
    "        title_label=Label(title_frame,text=\"User Login\",font=('Times New Roman',30,'bold'),fg='black',bg='lightgreen')\n",
    "        title_label.place(x=125,y=10)\n",
    "        \n",
    "    #variables\n",
    "        self.user_id=StringVar()\n",
    "        self.password=StringVar()\n",
    "        \n",
    "    #User Id\n",
    "        # ID frame\n",
    "\n",
    "        ID_frame=Frame(self.root,bd=1,relief=RAISED,bg='lightgreen')\n",
    "        ID_frame.place(x=25,y=150,width=450,height=60)  ## unit of x & y is pixel\n",
    "        \n",
    "        l1=Label(ID_frame,text=\"User ID : \",font=('Times New Roman',18,'bold'),fg='darkblue')\n",
    "        l1.grid(row=0,column=0,padx=10,pady=10,sticky=W)\n",
    "        \n",
    "        e1=ttk.Entry(ID_frame,textvariable=self.user_id,font=('Times New Roman',17,'bold'),width=20)\n",
    "        e1.grid(row=0,column=1,padx=20,pady=10,sticky=W)\n",
    "        \n",
    "        # password frame\n",
    "\n",
    "        password_frame=Frame(self.root,bd=1,relief=RAISED,bg='lightgreen')\n",
    "        password_frame.place(x=25,y=250,width=450,height=60)  ## unit of x & y is pixel\n",
    "        \n",
    "        l2=Label(password_frame,text=\"Password :\",font=('Times New Roman',18,'bold'),fg='darkblue')\n",
    "        l2.grid(row=0,column=0,padx=10,pady=10,sticky=W)\n",
    "        \n",
    "        e2=ttk.Entry(password_frame,textvariable=self.password,show='*',font=('Times New Roman',17,'bold'),width=20)\n",
    "        e2.grid(row=0,column=1,padx=10,pady=10,sticky=W)\n",
    "        \n",
    "        #login button frame\n",
    "        login_frame=Frame(self.root,bd=1,relief=RAISED,bg='skyblue')\n",
    "        login_frame.place(x=15,y=400,width=200,height=55)\n",
    "        \n",
    "        #login Button\n",
    "        User_login=Button(login_frame,text='Login',command=self.validate,width=15,bg='brown',fg='white',font=('bold',15),cursor='hand2')\n",
    "        User_login.grid(row=0,column=0,padx=10,pady=5)\n",
    "        \n",
    "        \n",
    "        #sign up button frame\n",
    "        signup_frame=Frame(self.root,bd=1,relief=RAISED,bg='skyblue')\n",
    "        signup_frame.place(x=280,y=400,width=200,height=55)\n",
    "        \n",
    "        #sign up Button\n",
    "        Sign_Up=Button(signup_frame,text='Sign Up',command=self.User_reg,width=15,bg='brown',fg='white',font=('bold',15),cursor='hand2')\n",
    "        Sign_Up.grid(row=0,column=0,padx=10,pady=5)\n",
    "        \n",
    "    def User_reg(self):\n",
    "        self.new_win = Toplevel(self.root)\n",
    "        self.new_obj = UserRegister(self.new_win)\n",
    "    def validate(self):\n",
    "        conn = psycopg2.connect(database = \"Onlinebookstore\", user = \"postgres\", password = \"postgres\", host = \"127.0.0.1\", port = \"5432\")\n",
    "        cur = conn.cursor()\n",
    "        cur.execute(\"select * from users\")\n",
    "        rows = cur.fetchall()\n",
    "        flag=False\n",
    "        for row in rows:\n",
    "            if row[2]==self.user_id.get() and row[4]==self.password.get():\n",
    "                flag=True\n",
    "                break\n",
    "            else:\n",
    "                flag=False\n",
    "        if flag==True:\n",
    "                self.user_page()\n",
    "        else:\n",
    "            messagebox.showerror('ERROR','Invali User-Id or Password')\n",
    "    def user_page(self):\n",
    "        self.new_win = Toplevel(self.root)\n",
    "        self.new_obj = Window(self.new_win)"
   ]
  },
  {
   "cell_type": "code",
   "execution_count": 4,
   "id": "830b2e3e",
   "metadata": {},
   "outputs": [],
   "source": [
    "if __name__=='__main__':\n",
    "    root = Tk()\n",
    "    obj=Userlogin_page(root)\n",
    "    root.mainloop()"
   ]
  },
  {
   "cell_type": "code",
   "execution_count": null,
   "id": "f1c0aa83",
   "metadata": {},
   "outputs": [],
   "source": []
  }
 ],
 "metadata": {
  "kernelspec": {
   "display_name": "Python 3 (ipykernel)",
   "language": "python",
   "name": "python3"
  },
  "language_info": {
   "codemirror_mode": {
    "name": "ipython",
    "version": 3
   },
   "file_extension": ".py",
   "mimetype": "text/x-python",
   "name": "python",
   "nbconvert_exporter": "python",
   "pygments_lexer": "ipython3",
   "version": "3.9.7"
  }
 },
 "nbformat": 4,
 "nbformat_minor": 5
}
