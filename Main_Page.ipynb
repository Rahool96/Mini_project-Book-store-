{
 "cells": [
  {
   "cell_type": "code",
   "execution_count": 1,
   "id": "522d1561",
   "metadata": {},
   "outputs": [],
   "source": [
    "#pip install import-ipynb\n",
    "import import_ipynb"
   ]
  },
  {
   "cell_type": "code",
   "execution_count": 5,
   "id": "4304e2e0",
   "metadata": {},
   "outputs": [],
   "source": [
    "from tkinter import*\n",
    "from tkinter import ttk, messagebox\n",
    "from PIL import ImageTk \n",
    "from Admin_login_page import Adminlogin_page\n",
    "from User_login_page import Userlogin_page\n",
    "from User_reg_page import UserRegister"
   ]
  },
  {
   "cell_type": "code",
   "execution_count": 6,
   "id": "76f3eeff",
   "metadata": {},
   "outputs": [],
   "source": [
    "class Main_page:\n",
    "    def __init__(self,root):\n",
    "        self.root = root\n",
    "        self.root.geometry('1670x670+0+0')\n",
    "        self.root.title(\"Online Book store\")\n",
    "        \n",
    "         # Background image\n",
    "        self.bg=ImageTk.PhotoImage(file='bg2.jpg')\n",
    "        bg_lbl=Label(self.root,image=self.bg,bd=2,relief=RAISED)   #relief=RAISED==> we give 3D effect to our main window \n",
    "        bg_lbl.place(x=0,y=0,relwidth=1,relheight=1)\n",
    "        \n",
    "        #title frame\n",
    "\n",
    "        title_frame=Frame(self.root,bd=1,relief=RAISED,bg='lightgreen')\n",
    "        title_frame.place(x=400,y=28,width=550,height=82)  ## unit of x & y is pixel\n",
    "        \n",
    "        title_label=Label(title_frame,text=\"Online Book store\",font=('Times New Roman',30,'bold'),fg='black',bg='lightgreen')\n",
    "        title_label.place(x=125,y=10)\n",
    "        \n",
    "         #Admin login frame\n",
    "        Alogin_frame=Frame(self.root,bd=1,relief=RAISED,bg='skyblue')\n",
    "        Alogin_frame.place(x=550,y=250,width=250,height=55)\n",
    "        \n",
    "        #Admin login Button\n",
    "        admin_login=Button(Alogin_frame,text='Admin login',command=self.Admin_login,width=20,bg='brown',fg='white',font=('bold',15),cursor='hand2')\n",
    "        admin_login.grid(row=0,column=0,padx=10,pady=5)\n",
    "        \n",
    "        #User login frame\n",
    "        Ulogin_frame=Frame(self.root,bd=1,relief=RAISED,bg='skyblue')\n",
    "        Ulogin_frame.place(x=550,y=350,width=250,height=55)\n",
    "        \n",
    "        #User login Button\n",
    "        admin_login=Button(Ulogin_frame,text='User login',command=self.User_login,width=20,bg='brown',fg='white',font=('bold',15),cursor='hand2')\n",
    "        admin_login.grid(row=0,column=0,padx=10,pady=5)\n",
    "        \n",
    "        #User Registration frame\n",
    "        Ureg_frame=Frame(self.root,bd=1,relief=RAISED,bg='skyblue')\n",
    "        Ureg_frame.place(x=550,y=450,width=250,height=55)\n",
    "        \n",
    "        #User Registration Button\n",
    "        admin_login=Button(Ureg_frame,text='User Registration',command=self.User_reg,width=20,bg='brown',fg='white',font=('bold',15),cursor='hand2')\n",
    "        admin_login.grid(row=0,column=0,padx=10,pady=5)\n",
    "        \n",
    "        \n",
    "    def Admin_login(self):\n",
    "        self.new_win = Toplevel(self.root)\n",
    "        self.new_obj = Adminlogin_page(self.new_win)\n",
    "    def User_login(self):\n",
    "        self.new_win = Toplevel(self.root)\n",
    "        self.new_obj = Userlogin_page(self.new_win)\n",
    "    def User_reg(self):\n",
    "        self.new_win = Toplevel(self.root)\n",
    "        self.new_obj = UserRegister(self.new_win)\n"
   ]
  },
  {
   "cell_type": "code",
   "execution_count": 7,
   "id": "191ce9c9",
   "metadata": {},
   "outputs": [
    {
     "name": "stderr",
     "output_type": "stream",
     "text": [
      "Exception in Tkinter callback\n",
      "Traceback (most recent call last):\n",
      "  File \"C:\\Users\\Rahul\\anaconda3\\lib\\tkinter\\__init__.py\", line 1892, in __call__\n",
      "    return self.func(*args)\n",
      "  File \"<string>\", line 136, in check_email\n",
      "  File \"C:\\Users\\Rahul\\anaconda3\\lib\\re.py\", line 191, in match\n",
      "    return _compile(pattern, flags).match(string)\n",
      "  File \"C:\\Users\\Rahul\\anaconda3\\lib\\re.py\", line 304, in _compile\n",
      "    p = sre_compile.compile(pattern, flags)\n",
      "  File \"C:\\Users\\Rahul\\anaconda3\\lib\\sre_compile.py\", line 764, in compile\n",
      "    p = sre_parse.parse(p, flags)\n",
      "  File \"C:\\Users\\Rahul\\anaconda3\\lib\\sre_parse.py\", line 962, in parse\n",
      "    raise source.error(\"unbalanced parenthesis\")\n",
      "re.error: unbalanced parenthesis at position 42\n",
      "Exception in Tkinter callback\n",
      "Traceback (most recent call last):\n",
      "  File \"C:\\Users\\Rahul\\anaconda3\\lib\\tkinter\\__init__.py\", line 1892, in __call__\n",
      "    return self.func(*args)\n",
      "  File \"<string>\", line 159, in check_password\n",
      "TypeError: object of type 'StringVar' has no len()\n"
     ]
    }
   ],
   "source": [
    "if __name__=='__main__':\n",
    "    root = Tk()\n",
    "    obj=Main_page(root)\n",
    "    root.mainloop()"
   ]
  },
  {
   "cell_type": "code",
   "execution_count": null,
   "id": "ef00e4f0",
   "metadata": {},
   "outputs": [],
   "source": []
  }
 ],
 "metadata": {
  "kernelspec": {
   "display_name": "Python 3 (ipykernel)",
   "language": "python",
   "name": "python3"
  },
  "language_info": {
   "codemirror_mode": {
    "name": "ipython",
    "version": 3
   },
   "file_extension": ".py",
   "mimetype": "text/x-python",
   "name": "python",
   "nbconvert_exporter": "python",
   "pygments_lexer": "ipython3",
   "version": "3.9.7"
  }
 },
 "nbformat": 4,
 "nbformat_minor": 5
}
